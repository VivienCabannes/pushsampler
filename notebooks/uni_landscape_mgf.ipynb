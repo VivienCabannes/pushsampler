{
 "cells": [
  {
   "cell_type": "code",
   "execution_count": 1,
   "metadata": {},
   "outputs": [],
   "source": [
    "# Load autoreload extension\n",
    "%load_ext autoreload\n",
    "%autoreload 2"
   ]
  },
  {
   "cell_type": "code",
   "execution_count": 2,
   "metadata": {},
   "outputs": [],
   "source": [
    "import matplotlib.pyplot as plt\n",
    "import numpy as np\n",
    "import torch\n",
    "import torch.optim as optim\n",
    "import torch.nn.functional as F\n",
    "\n",
    "plt.rc(\"text\", usetex=True)\n",
    "plt.rc(\"text.latex\", preamble=r\"\\usepackage{mathtools}\")\n",
    "plt.rc(\"font\", size=10, family=\"serif\", serif=\"cm\")\n",
    "plt.rc(\"figure\", figsize=(1.8, 1.5))"
   ]
  },
  {
   "cell_type": "code",
   "execution_count": 3,
   "metadata": {},
   "outputs": [],
   "source": [
    "def uniform_mgf(t, a, b):\n",
    "    out = torch.exp(b * t) - torch.exp(a * t)\n",
    "    out /= t * (b - a)\n",
    "    return out"
   ]
  },
  {
   "cell_type": "code",
   "execution_count": 4,
   "metadata": {},
   "outputs": [],
   "source": [
    "a, b = 3, 5\n",
    "\n",
    "nb_epochs = 5000\n",
    "batch_size = 10\n",
    "\n",
    "n_test = 1000\n",
    "nb_params = 100\n",
    "\n",
    "t = torch.linspace(.1, 1, 10).view(-1, 1, 1, 1)\n",
    "# t = torch.linspace(.1, 1, 10).view(-1, 1, 1, 1)\n",
    "x = torch.linspace(0, 1, n_test).view(1, -1, 1, 1)"
   ]
  },
  {
   "cell_type": "code",
   "execution_count": 5,
   "metadata": {},
   "outputs": [
    {
     "data": {
      "image/png": "[encoded data removed]",
      "text/plain": [
       "<Figure size 180x150 with 2 Axes>"
      ]
     },
     "metadata": {},
     "output_type": "display_data"
    }
   ],
   "source": [
    "# Compute outputs for different parameters\n",
    "std = torch.linspace((b - a) - 3, (b - a) + 3, nb_params).view(-1, 1)\n",
    "bia = torch.linspace(a - 3, a + 2, 2*nb_params).view(1, -1)\n",
    "y = std * x + bia\n",
    "\n",
    "z = torch.exp(y * t)\n",
    "z -= uniform_mgf(t, a, b)\n",
    "z = z.mean(dim=1)\n",
    "loss = torch.mean(z**2, dim=0)\n",
    "\n",
    "Z = np.clip(loss.numpy(), 0, 1e3)\n",
    "X, Y = np.meshgrid(bia.numpy().squeeze(), std.numpy().squeeze())\n",
    "\n",
    "fig, ax = plt.subplots()\n",
    "c = plt.contourf(X, Y, Z)\n",
    "ax.set_xlabel(\"Bias\")\n",
    "ax.set_ylabel(\"Std\")\n",
    "fig.colorbar(c)\n",
    "fig.savefig(\"uni_mgf_med.pdf\", bbox_inches=\"tight\")"
   ]
  },
  {
   "cell_type": "code",
   "execution_count": 6,
   "metadata": {},
   "outputs": [
    {
     "data": {
      "image/png": "[encoded data removed]",
      "text/plain": [
       "<Figure size 180x150 with 2 Axes>"
      ]
     },
     "metadata": {},
     "output_type": "display_data"
    }
   ],
   "source": [
    "# Compute outputs for different parameters\n",
    "std = torch.linspace((b - a) - .3, (b - a) + .3, nb_params).view(-1, 1)\n",
    "bia = torch.linspace(a - .3, a + .3, 2*nb_params).view(1, -1)\n",
    "y = std * x + bia\n",
    "\n",
    "z = torch.exp(y * t)\n",
    "z -= uniform_mgf(t, a, b)\n",
    "z = z.mean(dim=1)\n",
    "loss = torch.mean(z**2, dim=0)\n",
    "\n",
    "Z = np.clip(loss.numpy(), 0, 1e2)\n",
    "X, Y = np.meshgrid(bia.numpy().squeeze(), std.numpy().squeeze())\n",
    "\n",
    "fig, ax = plt.subplots()\n",
    "c = plt.contourf(X, Y, Z)\n",
    "ax.set_xlabel(\"Bias\")\n",
    "ax.set_ylabel(\"Std\")\n",
    "fig.colorbar(c)\n",
    "fig.savefig(\"uni_mgf_fine.pdf\", bbox_inches=\"tight\")"
   ]
  },
  {
   "cell_type": "code",
   "execution_count": 7,
   "metadata": {},
   "outputs": [
    {
     "data": {
      "image/png": "[encoded data removed]",
      "text/plain": [
       "<Figure size 180x150 with 2 Axes>"
      ]
     },
     "metadata": {},
     "output_type": "display_data"
    }
   ],
   "source": [
    "# Compute outputs for different parameters\n",
    "std = torch.linspace(-10, 10, nb_params).view(-1, 1)\n",
    "bia = torch.linspace(-10, 10, 2*nb_params).view(1, -1)\n",
    "y = std * x + bia\n",
    "\n",
    "z = torch.exp(y * t)\n",
    "z -= uniform_mgf(t, a, b)\n",
    "z = z.mean(dim=1)\n",
    "loss = torch.mean(z**2, dim=0)\n",
    "\n",
    "Z = np.clip(loss.numpy(), 0, 1e3)\n",
    "X, Y = np.meshgrid(bia.numpy().squeeze(), std.numpy().squeeze())\n",
    "\n",
    "fig, ax = plt.subplots()\n",
    "c = plt.contourf(X, Y, Z)\n",
    "ax.set_xlabel(\"Bias\")\n",
    "ax.set_ylabel(\"Std\")\n",
    "fig.colorbar(c)\n",
    "fig.savefig(\"uni_mgf_coarse.pdf\", bbox_inches=\"tight\")"
   ]
  },
  {
   "cell_type": "code",
   "execution_count": null,
   "metadata": {},
   "outputs": [],
   "source": []
  }
 ],
 "metadata": {
  "kernelspec": {
   "display_name": "dev",
   "language": "python",
   "name": "python3"
  },
  "language_info": {
   "codemirror_mode": {
    "name": "ipython",
    "version": 3
   },
   "file_extension": ".py",
   "mimetype": "text/x-python",
   "name": "python",
   "nbconvert_exporter": "python",
   "pygments_lexer": "ipython3",
   "version": "3.10.4"
  },
  "orig_nbformat": 4
 },
 "nbformat": 4,
 "nbformat_minor": 2
}
